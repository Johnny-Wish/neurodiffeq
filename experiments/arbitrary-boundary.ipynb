{
 "cells": [
  {
   "cell_type": "code",
   "execution_count": 1,
   "metadata": {},
   "outputs": [],
   "source": [
    "# ultimate goal: \n",
    "# get the trial solution psi_t(x) = A_D(x) + L_D(x)L_M(x)g_M(x) + L_D(x)N(x)"
   ]
  },
  {
   "cell_type": "code",
   "execution_count": 2,
   "metadata": {},
   "outputs": [],
   "source": [
    "class ControlPoint:\n",
    "    \n",
    "    def __init__(self, x, psi=None, nx=None, dpsi=None, dim=2):\n",
    "        \"\"\"\n",
    "        psi(x) is the function we are solving for\n",
    "        \n",
    "        :param x: coordinate of this control point\n",
    "        :param psi: (only for Dirichlet B.C.) psi(x)\n",
    "        :param nx: (only for Neumann B.C.) normal vector of this control point\n",
    "        :param dpsi: (only for Neumann B.C.) nx dot grad(psi(x)) = dpsi\n",
    "        :param dim: dimension of this control point\n",
    "        \"\"\""
   ]
  },
  {
   "cell_type": "code",
   "execution_count": 3,
   "metadata": {},
   "outputs": [],
   "source": [
    "class Interpolator:\n",
    "    \n",
    "    \"\"\"Methods here can be write on top of some general thin plate spline implementation?\"\"\"\n",
    "    \n",
    "    def fit_length_factor(control_points):\n",
    "        \"\"\"\n",
    "        list of ControlPoints -> length factor function:\n",
    "        if control points are for Dirichlet B.C. then L_D(x)\n",
    "        if control points are for Neumann B.C. then L_M(x)\n",
    "        \"\"\"\n",
    "        # for 2D boundaries:\n",
    "        # sort the control_points by their theta (in polar cordinate)\n",
    "        # assign each point the mapped point (equally spaced on a circle)\n",
    "        # solve the coefficients F for thin plate spline\n",
    "        # return L_D(x)/L_M(x) parameterized by F\n",
    "        \n",
    "        # for 3D boundaries:\n",
    "        # how to sort the control_points?\n",
    "        # how to assign mapped point? (what does equally spaced mean on a sphere?)\n",
    "    \n",
    "    def fit_dirichlet_bondary(control_points):\n",
    "        \"\"\"\n",
    "        the A_D(x) in psi_t(x) = A_D(x) + L_D(x)L_M(x)g_M(x) + L_D(x)N(x)\n",
    "        \"\"\"\n",
    "        # again a thin plate spline of the Dirichlet coundary control points? (re-check the paper)\n",
    "        \n",
    "    def fit_normal_vector(control_points):\n",
    "        \"\"\"\n",
    "        the g_M(x) in psi_t(x) = A_D(x) + L_D(x)L_M(x)g_M(x) + L_D(x)N(x)\n",
    "        involves the function n(x) that map x to the normal vector at that point,\n",
    "        this method fit that n(x)\n",
    "        \"\"\"\n",
    "        # again a thin plate spline of the Neumann coundary control points? (re-check the paper)"
   ]
  },
  {
   "cell_type": "code",
   "execution_count": 4,
   "metadata": {},
   "outputs": [],
   "source": [
    "class GeneralBoundaryCondition:\n",
    "    \n",
    "    def __init__(self, control_points, ith):\n",
    "        \"\"\"\n",
    "        control_points should include both Neumann B.C. and Dirichlet B.C.\n",
    "        maybe should create different class for them?\n",
    "        \"\"\"\n",
    "        # fit L_D(x), L_M(x), A_D(x), n(x)\n",
    "        # use the above functions to construct g_M(x)\n",
    "        # construct the final trial solution\n",
    "    \n",
    "    def _fit_g_M(L_D, L_M, A_D, nx):\n",
    "        \"\"\"\n",
    "        fit g_M(x), called in the initializer\n",
    "        maybe this method should be in interpolator?\n",
    "        \"\"\"\n",
    "    \n",
    "    def enforce(self, net, xyz_etc):\n",
    "    \n",
    "    def set_impose_on(self, ith):\n",
    "        \"\"\"\n",
    "        conform to the new interface of condition class\n",
    "        maybe I should have a base class so that we are not writing this method over and over again...\n",
    "        \"\"\""
   ]
  }
 ],
 "metadata": {
  "kernelspec": {
   "display_name": "Python 3",
   "language": "python",
   "name": "python3"
  },
  "language_info": {
   "codemirror_mode": {
    "name": "ipython",
    "version": 3
   },
   "file_extension": ".py",
   "mimetype": "text/x-python",
   "name": "python",
   "nbconvert_exporter": "python",
   "pygments_lexer": "ipython3",
   "version": "3.7.4"
  }
 },
 "nbformat": 4,
 "nbformat_minor": 2
}
