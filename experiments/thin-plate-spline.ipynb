{
 "cells": [
  {
   "cell_type": "code",
   "execution_count": 1,
   "metadata": {},
   "outputs": [],
   "source": [
    "# See http://citeseerx.ist.psu.edu/viewdoc/download?doi=10.1.1.105.1166&rep=rep1&type=pdf for clarification\n",
    "import numpy as np\n",
    "import matplotlib.pyplot as plt\n",
    "%matplotlib inline"
   ]
  },
  {
   "cell_type": "code",
   "execution_count": 2,
   "metadata": {},
   "outputs": [],
   "source": [
    "class DirichletControlPoint:\n",
    "    \n",
    "    def __repr__(self):\n",
    "        return f'DirichletControlPoint({self.x}, val={self.val})'\n",
    "    \n",
    "    def __init__(self, x, val):\n",
    "        self.x = x\n",
    "        self.val = val\n",
    "\n",
    "class TargetPoint:\n",
    "    \n",
    "    def __repr__(self):\n",
    "        return f'TargetPoint({self.x})'\n",
    "    \n",
    "    def __init__(self, x):\n",
    "        self.x = x"
   ]
  },
  {
   "cell_type": "code",
   "execution_count": 3,
   "metadata": {},
   "outputs": [],
   "source": [
    "square_control_points = []\n",
    "for i in np.linspace(0, 1, 11):\n",
    "    square_control_points.append(DirichletControlPoint(x=(0, i), val=0))\n",
    "for i in np.linspace(0, 1, 11):\n",
    "    square_control_points.append(DirichletControlPoint(x=(1, i), val=0))\n",
    "for i in np.linspace(1, 0, 11):\n",
    "    square_control_points.append(DirichletControlPoint(x=(i, 0), val=0))\n",
    "for i in np.linspace(0, 1, 11):\n",
    "    square_control_points.append(DirichletControlPoint(x=(i, 1), val=0))"
   ]
  },
  {
   "cell_type": "code",
   "execution_count": 4,
   "metadata": {},
   "outputs": [
    {
     "data": {
      "text/plain": [
       "[DirichletControlPoint((0, 0.0), val=0),\n",
       " DirichletControlPoint((0, 0.1), val=0),\n",
       " DirichletControlPoint((0, 0.2), val=0),\n",
       " DirichletControlPoint((0, 0.30000000000000004), val=0),\n",
       " DirichletControlPoint((0, 0.4), val=0)]"
      ]
     },
     "execution_count": 4,
     "metadata": {},
     "output_type": "execute_result"
    }
   ],
   "source": [
    "square_control_points[:5]"
   ]
  },
  {
   "cell_type": "code",
   "execution_count": 5,
   "metadata": {},
   "outputs": [],
   "source": [
    "def create_mapping_targets(control_points, center, r=0.5):\n",
    "    \n",
    "    # remove the control points that are defined more than once\n",
    "    coords = set()\n",
    "    unique = []\n",
    "    for cp in control_points:\n",
    "        if cp.x not in coords:\n",
    "            coords.add(cp.x)\n",
    "            unique.append(cp)\n",
    "    \n",
    "    # sort the control points 'clockwise' (from 0 to -2pi)\n",
    "    def clockwise(cp):\n",
    "        return (\n",
    "            1 if cp.x[1]-center[1] > 0 else -1,\n",
    "            (cp.x[0]-center[0])/(cp.x[1]-center[1]-1e-8)\n",
    "        )\n",
    "    control_points = sorted(unique, key=clockwise)\n",
    "\n",
    "    # create equally spaced target points\n",
    "    target_points = [\n",
    "        TargetPoint( (r*np.cos(theta), r*np.sin(theta)) )\n",
    "        for theta in -np.linspace(0, 2*np.pi, len(control_points))\n",
    "    ]\n",
    "    \n",
    "    assert len(control_points) == len(target_points)\n",
    "    return control_points, target_points"
   ]
  },
  {
   "cell_type": "code",
   "execution_count": 6,
   "metadata": {},
   "outputs": [],
   "source": [
    "control_points, target_points = create_mapping_targets(square_control_points, (0.5, 0.5))"
   ]
  },
  {
   "cell_type": "code",
   "execution_count": 7,
   "metadata": {},
   "outputs": [
    {
     "data": {
      "image/png": "[encoded data removed]",
      "text/plain": [
       "<Figure size 432x288 with 1 Axes>"
      ]
     },
     "metadata": {
      "needs_background": "light"
     },
     "output_type": "display_data"
    }
   ],
   "source": [
    "xs = [cp.x[0] for cp in control_points]\n",
    "ys = [cp.x[1] for cp in control_points]\n",
    "plt.plot(xs, ys);"
   ]
  },
  {
   "cell_type": "code",
   "execution_count": 8,
   "metadata": {},
   "outputs": [
    {
     "data": {
      "image/png": "[encoded data removed]",
      "text/plain": [
       "<Figure size 432x288 with 1 Axes>"
      ]
     },
     "metadata": {
      "needs_background": "light"
     },
     "output_type": "display_data"
    }
   ],
   "source": [
    "xs = [tp.x[0] for tp in target_points]\n",
    "ys = [tp.x[1] for tp in target_points]\n",
    "plt.plot(xs, ys);"
   ]
  },
  {
   "cell_type": "code",
   "execution_count": 9,
   "metadata": {},
   "outputs": [
    {
     "data": {
      "text/plain": [
       "array([2., 3.])"
      ]
     },
     "execution_count": 9,
     "metadata": {},
     "output_type": "execute_result"
    }
   ],
   "source": [
    "a = np.array([[3,1], [1,2]])\n",
    "b = np.array([9,8])\n",
    "x = np.linalg.solve(a, b)\n",
    "x"
   ]
  },
  {
   "cell_type": "code",
   "execution_count": null,
   "metadata": {},
   "outputs": [],
   "source": [
    "# TODO: for each dimension of the control points, solve the system for TPS"
   ]
  }
 ],
 "metadata": {
  "kernelspec": {
   "display_name": "Python 3",
   "language": "python",
   "name": "python3"
  },
  "language_info": {
   "codemirror_mode": {
    "name": "ipython",
    "version": 3
   },
   "file_extension": ".py",
   "mimetype": "text/x-python",
   "name": "python",
   "nbconvert_exporter": "python",
   "pygments_lexer": "ipython3",
   "version": "3.7.4"
  }
 },
 "nbformat": 4,
 "nbformat_minor": 2
}
